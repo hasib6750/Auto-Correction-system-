{
  "nbformat": 4,
  "nbformat_minor": 0,
  "metadata": {
    "colab": {
      "provenance": [],
      "include_colab_link": true
    },
    "kernelspec": {
      "name": "python3",
      "display_name": "Python 3"
    },
    "language_info": {
      "name": "python"
    }
  },
  "cells": [
    {
      "cell_type": "markdown",
      "metadata": {
        "id": "view-in-github",
        "colab_type": "text"
      },
      "source": [
        "<a href=\"https://colab.research.google.com/github/hasib6750/Auto-Correction-system-/blob/main/auto_correction.ipynb\" target=\"_parent\"><img src=\"https://colab.research.google.com/assets/colab-badge.svg\" alt=\"Open In Colab\"/></a>"
      ]
    },
    {
      "cell_type": "code",
      "execution_count": null,
      "metadata": {
        "id": "37C_gHrFrkLr"
      },
      "outputs": [],
      "source": [
        "import re\n",
        "import string\n",
        "from collections import Counter\n",
        "import numpy as np\n",
        "import matplotlib.pyplot as plt"
      ]
    },
    {
      "cell_type": "code",
      "source": [
        "def read_text(filename):\n",
        "  with open(filename,'r') as file:\n",
        "    lines=file.readlines()\n",
        "    words=[]\n",
        "    for line in lines:\n",
        "      words+=re.findall(r'\\w+',line.lower())\n",
        "  return words\n",
        "def tester(filename):\n",
        "      test = open(filename, 'r')\n",
        "      Lines = test.readlines()\n",
        "      corrected=[]\n",
        "      incorrect=[]\n",
        "      for i in range(0,len(Lines)):\n",
        "        line=Lines[i].split(':')\n",
        "        corrected.append(line[0])\n",
        "        corrected[i]=corrected[i].lower()\n",
        "        incorrect.append(line[1])\n",
        "        incorrect[i]=incorrect[i].lower()\n",
        "        incorrect[i]=incorrect[i].strip()\n",
        "      for i in range(0,len(incorrect)):\n",
        "        word = incorrect[i]\n",
        "        corrections = accuracy_tester(word, unique, word_provablity)\n",
        "        if corrections:\n",
        "          probs = np.array([c[1] for c in corrections])\n",
        "          best_ix = np.argmax(probs)\n",
        "          correct = corrections[best_ix][0]\n",
        "          incorrect[i]=correct\n",
        "      x=0\n",
        "      for i in range(0,len(incorrect)):\n",
        "        if (corrected[i]==incorrect[i]):\n",
        "          x=x+1\n",
        "      accuracy=x/len(incorrect)\n",
        "      accuracy=accuracy*100\n",
        "      print(accuracy)\n",
        "def split(word):\n",
        "  return [(word[:count], word[count:]) for count in range(len(word) + 1)]\n",
        "def delete(word):\n",
        "  return [left + right[1:] for left,right in split(word) if right]\n",
        "def swap(word):\n",
        "  return [left + right[1] + right[0] + right[2:] for left, right in split(word) if len(right)>1]\n",
        "def replace(word):\n",
        "  let_ascii = string.ascii_lowercase\n",
        "  return [left + center + right[1:] for left, right in split(word) if right for c in let_ascii]\n",
        "def insert(word):\n",
        "  let_ascii = string.ascii_lowercase\n",
        "  return [l + c + r for l, r in split(word) for c in let_ascii]\n",
        "def replace(word):\n",
        "  let_ascii = string.ascii_lowercase\n",
        "  return [left + center + right[1:] for left, right in split(word) if right for center in let_ascii]\n",
        "def insert(word):\n",
        "  let_ascii = string.ascii_lowercase\n",
        "  return [left + center + right for left, right in split(word) for center in let_ascii]\n",
        "def edit_lvl_1(word):\n",
        "  return set(delete(word) + swap(word) + replace(word) + insert(word))\n",
        "def edit_lvl_2(word):\n",
        "  return set(edit2 for edit1 in edit_lvl_1(word) for edit2 in edit_lvl_1(edit1))\n",
        "def accuracy_tester(word, unique, word_probabilities):\n",
        "  if word in unique:\n",
        "   # print(f\"{word} is correctly spelt\")\n",
        "    return\n",
        "\n",
        "  suggestions = edit_lvl_1(word) or edit_lvl_2(word) or [word]\n",
        "  close = [word for word in suggestions if word in unique]\n",
        "  return [(word, word_probabilities[word]) for word in close]\n",
        "def word_correction(word, unique, word_probabilities):\n",
        "  if word in unique:\n",
        "    print(f\"{word} is correctly spelt\")\n",
        "    return\n",
        "\n",
        "  suggestions = edit_lvl_1(word) or edit_lvl_2(word) or [word]\n",
        "  close = [word for word in suggestions if word in unique]\n",
        "  return [(word, word_probabilities[word]) for word in close]"
      ],
      "metadata": {
        "id": "lMzuy1Ncsh6f"
      },
      "execution_count": null,
      "outputs": []
    },
    {
      "cell_type": "code",
      "source": [
        "w=read_text(\"big.txt\")\n",
        "print(f\"there are {len(w)} words in the dataset\")\n"
      ],
      "metadata": {
        "colab": {
          "base_uri": "https://localhost:8080/"
        },
        "id": "D1exNp_wvMHe",
        "outputId": "d3f357eb-9561-4aa9-ae3a-00cd6cf6df1f"
      },
      "execution_count": null,
      "outputs": [
        {
          "output_type": "stream",
          "name": "stdout",
          "text": [
            "there are 1115585 words in the dataset\n"
          ]
        }
      ]
    },
    {
      "cell_type": "code",
      "source": [
        "unique=set(w)\n",
        "print(f\"there are {len(unique)} unique words \")\n"
      ],
      "metadata": {
        "colab": {
          "base_uri": "https://localhost:8080/"
        },
        "id": "bCxcwIbK0HPl",
        "outputId": "adbc7e1c-3e1d-489d-ad89-05f23100303e"
      },
      "execution_count": null,
      "outputs": [
        {
          "output_type": "stream",
          "name": "stdout",
          "text": [
            "there are 32198 unique words \n"
          ]
        }
      ]
    },
    {
      "cell_type": "code",
      "source": [
        "words_counter=Counter(w)\n",
        "print(words_counter[\"that\"])\n"
      ],
      "metadata": {
        "colab": {
          "base_uri": "https://localhost:8080/"
        },
        "id": "wOXiO7_h4gYj",
        "outputId": "a874ce3e-c009-4437-e0a8-621d59cd4c27"
      },
      "execution_count": null,
      "outputs": [
        {
          "output_type": "stream",
          "name": "stdout",
          "text": [
            "12512\n"
          ]
        }
      ]
    },
    {
      "cell_type": "code",
      "source": [
        "total_w_c= float(sum(words_counter.values()))\n",
        "word_provablity={word:words_counter[word] / total_w_c for word in words_counter.keys()}\n"
      ],
      "metadata": {
        "id": "VH9YnwOC7TEt"
      },
      "execution_count": null,
      "outputs": []
    },
    {
      "cell_type": "code",
      "source": [
        "t1=tester(\"wikipedia.txt\")\n",
        "t2=tester(\"aspell.txt\")\n",
        "t3=tester(\"spell-testset1.txt\")\n",
        "t4=tester(\"spell-testset2.txt\")\n"
      ],
      "metadata": {
        "colab": {
          "base_uri": "https://localhost:8080/"
        },
        "id": "rtWCVFqJuj5O",
        "outputId": "678de13b-8adb-47c3-ed36-6d7e933f5dac"
      },
      "execution_count": null,
      "outputs": [
        {
          "output_type": "stream",
          "name": "stdout",
          "text": [
            "43.02809573361082\n",
            "30.666666666666664\n",
            "36.17021276595745\n",
            "53.994490358126725\n"
          ]
        }
      ]
    },
    {
      "cell_type": "code",
      "source": [
        "# Look at index 4 and 6, which demonstrate overlapping cases.\n",
        "x1 = [1,2,3,4]\n",
        "y1 = [43.03,30.66,36.17,53.99]\n",
        "\n",
        "\n",
        "\n",
        "# Colors: https://matplotlib.org/api/colors_api.html\n",
        "\n",
        "plt.bar(x1, y1, label=\"Blue Bar\", color='b')\n",
        "\n",
        "plt.plot()\n",
        "\n",
        "plt.xlabel(\"accuracy\")\n",
        "plt.ylabel(\"Name\")\n",
        "plt.title(\"Accuracy Percentage\")\n",
        "plt.legend()\n",
        "plt.show()"
      ],
      "metadata": {
        "id": "jY02aTYmlID7",
        "colab": {
          "base_uri": "https://localhost:8080/",
          "height": 295
        },
        "outputId": "03e44303-9314-4196-dd67-6889873f0afb"
      },
      "execution_count": null,
      "outputs": [
        {
          "output_type": "display_data",
          "data": {
            "text/plain": [
              "<Figure size 432x288 with 1 Axes>"
            ],
            "image/png": "[encoded data removed]"
          },
          "metadata": {
            "needs_background": "light"
          }
        }
      ]
    },
    {
      "cell_type": "code",
      "source": [
        "word = input()\n",
        "corrections = word_correction(word, unique, word_provablity)\n",
        "\n",
        "if corrections:\n",
        "  print(corrections)\n",
        "  probs = np.array([c[1] for c in corrections])\n",
        "  best_word = np.argmax(probs)\n",
        "  correct = corrections[best_word][0]\n",
        "  print(f\"{correct} is suggested for {word}\")\n",
        "\n",
        ""
      ],
      "metadata": {
        "id": "UFG9HfXVLVhA",
        "colab": {
          "base_uri": "https://localhost:8080/"
        },
        "outputId": "6c459a74-9cd3-4028-9aea-df71c2db689e"
      },
      "execution_count": null,
      "outputs": [
        {
          "output_type": "stream",
          "name": "stdout",
          "text": [
            "pouy\n",
            "[('pony', 3.585562731660967e-06), ('poky', 8.963906829152417e-07), ('poly', 2.6891720487457255e-06), ('pour', 1.7927813658304835e-05)]\n",
            "pour is suggested for pouy\n"
          ]
        }
      ]
    }
  ]
}